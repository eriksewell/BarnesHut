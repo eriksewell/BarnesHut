{
 "cells": [
  {
   "cell_type": "code",
   "execution_count": 1,
   "metadata": {},
   "outputs": [],
   "source": [
    "from core import Simulation\n",
    "\n",
    "# dt, num_frames, simsize\n",
    "sim = Simulation(0.01, 5000, 300)\n",
    "\n",
    "# num_bodies, mass_range, position_range, velocity_range\n",
    "#sim.generate_bodies(3, [0.1, 1], [-10, 10], [-0.1, 0.1])\n",
    "\n",
    "#sim.generate_solar_system()\n",
    "\n",
    "# num_bodies - 1, mass_range, position_range, central_mass\n",
    "sim.generate_circular_orbits(99, [0.01, 1], [-100, 100], 3000)\n",
    "\n",
    "# run simulation using leapfrog integration\n",
    "sim.run_sim()\n",
    "\n",
    "# run simulation using Euler's method\n",
    "#sim.run_sim_euler()\n",
    "\n",
    "# run direct force simulation\n",
    "#sim.run_direct_sim()"
   ]
  },
  {
   "cell_type": "code",
   "execution_count": 2,
   "metadata": {},
   "outputs": [
    {
     "name": "stdout",
     "output_type": "stream",
     "text": [
      "Rendering batch 1/50...\n",
      "Rendering batch 2/50...\n",
      "Rendering batch 3/50...\n",
      "Rendering batch 4/50...\n",
      "Rendering batch 5/50...\n",
      "Rendering batch 6/50...\n",
      "Rendering batch 7/50...\n",
      "Rendering batch 8/50...\n",
      "Rendering batch 9/50...\n",
      "Rendering batch 10/50...\n",
      "Rendering batch 11/50...\n",
      "Rendering batch 12/50...\n",
      "Rendering batch 13/50...\n",
      "Rendering batch 14/50...\n",
      "Rendering batch 15/50...\n",
      "Rendering batch 16/50...\n",
      "Rendering batch 17/50...\n",
      "Rendering batch 18/50...\n",
      "Rendering batch 19/50...\n",
      "Rendering batch 20/50...\n",
      "Rendering batch 21/50...\n",
      "Rendering batch 22/50...\n",
      "Rendering batch 23/50...\n",
      "Rendering batch 24/50...\n",
      "Rendering batch 25/50...\n",
      "Rendering batch 26/50...\n",
      "Rendering batch 27/50...\n",
      "Rendering batch 28/50...\n",
      "Rendering batch 29/50...\n",
      "Rendering batch 30/50...\n",
      "Rendering batch 31/50...\n",
      "Rendering batch 32/50...\n",
      "Rendering batch 33/50...\n",
      "Rendering batch 34/50...\n",
      "Rendering batch 35/50...\n",
      "Rendering batch 36/50...\n",
      "Rendering batch 37/50...\n",
      "Rendering batch 38/50...\n",
      "Rendering batch 39/50...\n",
      "Rendering batch 40/50...\n",
      "Rendering batch 41/50...\n",
      "Rendering batch 42/50...\n",
      "Rendering batch 43/50...\n",
      "Rendering batch 44/50...\n",
      "Rendering batch 45/50...\n",
      "Rendering batch 46/50...\n",
      "Rendering batch 47/50...\n",
      "Rendering batch 48/50...\n",
      "Rendering batch 49/50...\n",
      "Rendering batch 50/50...\n",
      "Combining frames into video...\n",
      "Cleaning up frames...\n",
      "Animation saved to simulation.mp4\n"
     ]
    }
   ],
   "source": [
    "# save Barnes-Hut sim\n",
    "#sim.save_animation()\n",
    "\n",
    "# save Barnes-Hut sim using multiprocessing\n",
    "sim.mp_save_animation()\n",
    "\n",
    "# save direct force sim\n",
    "#sim.save_direct_animation()\n",
    "\n"
   ]
  },
  {
   "cell_type": "code",
   "execution_count": null,
   "metadata": {},
   "outputs": [],
   "source": [
    "# Add logic to handle bodies outside of simulation boundary"
   ]
  }
 ],
 "metadata": {
  "kernelspec": {
   "display_name": "Python 3",
   "language": "python",
   "name": "python3"
  },
  "language_info": {
   "codemirror_mode": {
    "name": "ipython",
    "version": 3
   },
   "file_extension": ".py",
   "mimetype": "text/x-python",
   "name": "python",
   "nbconvert_exporter": "python",
   "pygments_lexer": "ipython3",
   "version": "3.10.12"
  }
 },
 "nbformat": 4,
 "nbformat_minor": 2
}
