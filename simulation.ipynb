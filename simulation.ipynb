{
 "cells": [
  {
   "cell_type": "code",
   "execution_count": 7,
   "metadata": {},
   "outputs": [],
   "source": [
    "from core import Simulation\n",
    "\n",
    "# dt, num_frames, simsize\n",
    "sim = Simulation(0.05, 4000, 64)\n",
    "\n",
    "# num_bodies, mass_range, position_range, velocity_range\n",
    "sim.generate_bodies(3, [0.1, 1], [-10, 10], [-0.1, 0.1])\n",
    "#sim.generate_solar_system()\n",
    "\n",
    "# run simulation using leapfrog integration\n",
    "sim.run_sim()\n",
    "\n",
    "# run simulation using Euler's method\n",
    "#sim.run_sim_euler()"
   ]
  },
  {
   "cell_type": "code",
   "execution_count": 8,
   "metadata": {},
   "outputs": [
    {
     "name": "stdout",
     "output_type": "stream",
     "text": [
      "Animation saved to simulation.mp4\n"
     ]
    }
   ],
   "source": [
    "sim.save_animation()"
   ]
  },
  {
   "cell_type": "code",
   "execution_count": null,
   "metadata": {},
   "outputs": [],
   "source": []
  }
 ],
 "metadata": {
  "kernelspec": {
   "display_name": "Python 3",
   "language": "python",
   "name": "python3"
  },
  "language_info": {
   "codemirror_mode": {
    "name": "ipython",
    "version": 3
   },
   "file_extension": ".py",
   "mimetype": "text/x-python",
   "name": "python",
   "nbconvert_exporter": "python",
   "pygments_lexer": "ipython3",
   "version": "3.10.12"
  }
 },
 "nbformat": 4,
 "nbformat_minor": 2
}
